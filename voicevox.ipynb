{
  "cells": [
    {
      "cell_type": "markdown",
      "metadata": {
        "id": "IN6vf8RGW_lX"
      },
      "source": [
        "# **Napha Voicevox**\n",
        "Voicevox API for Napha\n",
        "\n",
        "---"
      ]
    },
    {
      "cell_type": "code",
      "execution_count": null,
      "metadata": {
        "cellView": "form",
        "id": "kZwp6uIIXr92"
      },
      "outputs": [],
      "source": [
        "# @title ###Prepare Voicevox Engine Public URL\n",
        "\n",
        "# Check current Python 3 version\n",
        "!python3 --version\n",
        "\n",
        "# Configure Python 3 alternatives\n",
        "!sudo update-alternatives --config python3\n",
        "\n",
        "# Update package list\n",
        "!sudo apt-get update -y\n",
        "\n",
        "# Install Python 3.11 and development tools\n",
        "!sudo apt-get install -y python3.11 python3.11-dev python3.11-distutils libpython3.11-dev\n",
        "\n",
        "# Set Python 3.11 as default\n",
        "!sudo update-alternatives --install /usr/bin/python3 python3 /usr/bin/python3.10 1\n",
        "!sudo update-alternatives --install /usr/bin/python3 python3 /usr/bin/python3.11 2\n",
        "\n",
        "# Verify Python 3 version\n",
        "!python3 --version\n",
        "\n",
        "# Ensure distutils for Python 3.11 is installed\n",
        "!sudo apt-get install -y python3.11-distutils\n",
        "\n",
        "# Download get-pip.py script\n",
        "!wget https://bootstrap.pypa.io/get-pip.py\n",
        "\n",
        "# Install pip using the downloaded script\n",
        "!python3.11 get-pip.py\n",
        "\n",
        "# Install necessary Python packages\n",
        "!python3.11 -m pip install ipython ipython_genutils ipykernel jupyter_console prompt_toolkit httplib2 astor\n",
        "\n",
        "# Download the voicevox engine archive\n",
        "!wget 'https://github.com/VOICEVOX/voicevox_engine/releases/download/0.19.1/voicevox_engine-linux-cpu-0.19.1.7z.001'\n",
        "\n",
        "# Install p7zip to extract the .7z archive\n",
        "!apt-get update -y\n",
        "!apt-get install -y p7zip-full\n",
        "\n",
        "# Extract the archive\n",
        "!7z x 'voicevox_engine-linux-cpu-0.19.1.7z.001'\n",
        "\n",
        "# Clean up the downloaded archive\n",
        "!rm 'voicevox_engine-linux-cpu-0.19.1.7z.001'\n",
        "\n",
        "# Clone voicevox engine repository\n",
        "!git clone https://github.com/VOICEVOX/voicevox_engine -q\n",
        "\n",
        "# Install necessary packages for voicevox engine public url\n",
        "!npm install -g localtunnel -q\n",
        "!sed \"s/;.*//\" voicevox_engine/requirements.txt | pip install -r /dev/stdin"
      ]
    },
    {
      "cell_type": "code",
      "execution_count": null,
      "metadata": {
        "cellView": "form",
        "id": "ZNOVkaAZX-nB"
      },
      "outputs": [],
      "source": [
        "# @title ###Run Voicevox Engine Public URL\n",
        "\n",
        "!wget -q -O - https://loca.lt/mytunnelpassword\n",
        "!printf \"\\n\\n\"\n",
        "!python voicevox_engine/run.py --voicevox_dir='linux-cpu' & lt --port 50021 --subdomain \"napha-voicevox\""
      ]
    }
  ],
  "metadata": {
    "accelerator": "GPU",
    "colab": {
      "gpuType": "T4",
      "include_colab_link": true,
      "provenance": []
    },
    "kernelspec": {
      "display_name": "Python 3",
      "name": "python3"
    },
    "language_info": {
      "name": "python"
    }
  },
  "nbformat": 4,
  "nbformat_minor": 0
}
