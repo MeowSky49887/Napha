{
  "nbformat": 4,
  "nbformat_minor": 0,
  "metadata": {
    "colab": {
      "provenance": [],
      "authorship_tag": "ABX9TyP0k+ad7NZ0CyS5U6y2YtTp",
      "include_colab_link": true
    },
    "kernelspec": {
      "name": "python3",
      "display_name": "Python 3"
    },
    "language_info": {
      "name": "python"
    }
  },
  "cells": [
    {
      "cell_type": "markdown",
      "metadata": {
        "id": "view-in-github",
        "colab_type": "text"
      },
      "source": [
        "<a href=\"https://colab.research.google.com/github/MeowSky49887/Napha/blob/main/APIs.ipynb\" target=\"_parent\"><img src=\"https://colab.research.google.com/assets/colab-badge.svg\" alt=\"Open In Colab\"/></a>"
      ]
    },
    {
      "cell_type": "markdown",
      "source": [
        "# **Napha APIs**\n",
        "\n",
        "---\n",
        "\n",
        "This is Combined APIs for *Napha*\n",
        "\n",
        "Including\n",
        "*   LLaMa CPP\n",
        "*   VOICEVOX Engine\n",
        "\n",
        "For *Napha* Application please download at https://github.com/MeowSky49887/Napha\n",
        "\n",
        "---"
      ],
      "metadata": {
        "id": "5pFW43xBsN5Y"
      }
    },
    {
      "cell_type": "markdown",
      "source": [
        "## Setting up Napha APIs"
      ],
      "metadata": {
        "id": "x5_pxO4Trjoe"
      }
    },
    {
      "cell_type": "code",
      "source": [
        "# @title ###Step1: Setting Up Python 3.11 Environment in Google Colab\n",
        "\n",
        "# Check current Python 3 version\n",
        "!python3 --version\n",
        "\n",
        "# Configure Python 3 alternatives\n",
        "!sudo update-alternatives --config python3\n",
        "\n",
        "# Update package list\n",
        "!sudo apt-get update -y\n",
        "\n",
        "# Install Python 3.11 and development tools\n",
        "!sudo apt-get install -y python3.11 python3.11-dev python3.11-distutils libpython3.11-dev\n",
        "\n",
        "# Set Python 3.11 as default\n",
        "!sudo update-alternatives --install /usr/bin/python3 python3 /usr/bin/python3.10 1\n",
        "!sudo update-alternatives --install /usr/bin/python3 python3 /usr/bin/python3.11 2\n",
        "\n",
        "# Verify Python 3 version\n",
        "!python3 --version\n",
        "\n",
        "# Ensure distutils for Python 3.11 is installed\n",
        "!sudo apt-get install -y python3.11-distutils\n",
        "\n",
        "# Download get-pip.py script\n",
        "!wget https://bootstrap.pypa.io/get-pip.py\n",
        "\n",
        "# Install pip using the downloaded script\n",
        "!python3.11 get-pip.py\n",
        "\n",
        "# Install necessary Python packages\n",
        "!python3.11 -m pip install ipython ipython_genutils ipykernel jupyter_console prompt_toolkit httplib2 astor"
      ],
      "metadata": {
        "cellView": "form",
        "id": "3DbLKs8-xAfH"
      },
      "execution_count": null,
      "outputs": []
    },
    {
      "cell_type": "code",
      "execution_count": null,
      "metadata": {
        "id": "_5s6nOtcFvli",
        "cellView": "form"
      },
      "outputs": [],
      "source": [
        "# @title ###Step:2 Setting Up VOICEVOX Engine and LLaMA CPP\n",
        "\n",
        "# Download the voicevox engine archive\n",
        "!wget 'https://github.com/VOICEVOX/voicevox_engine/releases/download/0.19.1/voicevox_engine-linux-cpu-0.19.1.7z.001'\n",
        "\n",
        "# Install p7zip to extract the .7z archive\n",
        "!apt-get update -y\n",
        "!apt-get install -y p7zip-full\n",
        "\n",
        "# Extract the archive\n",
        "!7z x 'voicevox_engine-linux-cpu-0.19.1.7z.001'\n",
        "\n",
        "# Clean up the downloaded archive\n",
        "!rm 'voicevox_engine-linux-cpu-0.19.1.7z.001'\n",
        "\n",
        "# Clone voicevox engine repository\n",
        "!git clone https://github.com/VOICEVOX/voicevox_engine -q\n",
        "\n",
        "# Install necessary packages for voicevox engine and llama.cpp public url\n",
        "!sed \"s/;.*//\" voicevox_engine/requirements.txt | pip install -r /dev/stdin\n",
        "!pip install llama-cpp-python fastapi huggingface_hub\n",
        "!npm install -g localtunnel -q"
      ]
    },
    {
      "cell_type": "code",
      "source": [
        "# @title ###Step3: Creating a FastAPI Chat Application with specific LLaMA CPP Model\n",
        "\n",
        "# Specify the content of the Python file\n",
        "file_content = \"\"\"\n",
        "from llama_cpp import Llama\n",
        "from fastapi import FastAPI\n",
        "from pydantic import BaseModel\n",
        "from typing import List\n",
        "from fastapi.responses import JSONResponse\n",
        "\n",
        "class MessageItem(BaseModel):\n",
        "    role: str\n",
        "    content: str\n",
        "\n",
        "class MessageList(BaseModel):\n",
        "    messages: List[MessageItem]\n",
        "\n",
        "app = FastAPI()\n",
        "\n",
        "# Load the pre-trained model\n",
        "guanaco = Llama.from_pretrained(\n",
        "    repo_id=\"RepositoryID\",\n",
        "    filename=\"FileName\",\n",
        "    verbose=False\n",
        ")\n",
        "\n",
        "@app.get(\"/\")\n",
        "def root():\n",
        "    return {\"Hello\": \"World\"}\n",
        "\n",
        "@app.post(\"/chat\")\n",
        "async def chat(history: MessageList):\n",
        "    # Convert the input messages to the format expected by the model\n",
        "    messages = [{\"role\": msg.role, \"content\": msg.content} for msg in history.messages]\n",
        "\n",
        "    # Generate a response using the model\n",
        "    response = guanaco.create_chat_completion(messages=messages)\n",
        "\n",
        "    # Return the model's response\n",
        "    return JSONResponse(content=response)\n",
        "\"\"\"\n",
        "\n",
        "RepositoryID = \"RichardErkhov/TheTravellingEngineer_-_llama2-7b-chat-hf-guanaco-gguf\" # @param {type:\"string\"}\n",
        "FileName = \"llama2-7b-chat-hf-guanaco.Q4_K_M.gguf\" # @param {type:\"string\"}\n",
        "\n",
        "file_content = file_content.replace(\"RepositoryID\", RepositoryID).replace(\"FileName\", FileName)\n",
        "\n",
        "# Write the content to a Python file\n",
        "with open('main.py', 'w') as file:\n",
        "    file.write(file_content)\n",
        "\n",
        "print(\"Python file 'main.py' created successfully.\")"
      ],
      "metadata": {
        "cellView": "form",
        "id": "84qEvrgbmzly"
      },
      "execution_count": null,
      "outputs": []
    },
    {
      "cell_type": "markdown",
      "source": [
        "## Running Napha APIs"
      ],
      "metadata": {
        "id": "nmuey9Frt9Ai"
      }
    },
    {
      "cell_type": "code",
      "source": [
        "# @title ###Just Click Run ✔\n",
        "\n",
        "import threading\n",
        "import subprocess\n",
        "\n",
        "def run_fastapi():\n",
        "    !fastapi run main.py\n",
        "\n",
        "def run_voicevox():\n",
        "    !python voicevox_engine/run.py --voicevox_dir='linux-cpu' --host 0.0.0.0 --port 50021\n",
        "\n",
        "def run_localtunnel_port8000():\n",
        "    !lt --port 8000 --subdomain \"napha-llama\"\n",
        "\n",
        "def run_localtunnel_port50021():\n",
        "    !lt --port 50021 --subdomain \"napha-voicevox\"\\\n",
        "\n",
        "# Create threads for each command\n",
        "thread_fastapi = threading.Thread(target=run_fastapi)\n",
        "thread_voicevox = threading.Thread(target=run_voicevox)\n",
        "thread_localtunnel_8000 = threading.Thread(target=run_localtunnel_port8000)\n",
        "thread_localtunnel_50021 = threading.Thread(target=run_localtunnel_port50021)\n",
        "\n",
        "# Start all threads\n",
        "thread_fastapi.start()\n",
        "thread_voicevox.start()\n",
        "thread_localtunnel_8000.start()\n",
        "thread_localtunnel_50021.start()\n",
        "\n",
        "# Join all threads to wait for completion\n",
        "thread_fastapi.join()\n",
        "thread_voicevox.join()\n",
        "thread_localtunnel_8000.join()\n",
        "thread_localtunnel_50021.join()\n",
        "\n",
        "print(\"All threads finished execution\")\n"
      ],
      "metadata": {
        "id": "YXhPp6nMGAxS",
        "cellView": "form"
      },
      "execution_count": null,
      "outputs": []
    }
  ]
}