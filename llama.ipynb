{
  "nbformat": 4,
  "nbformat_minor": 0,
  "metadata": {
    "colab": {
      "provenance": [],
      "authorship_tag": "ABX9TyOhXMOV42MjfJ82C62Gp5bk",
      "include_colab_link": true
    },
    "kernelspec": {
      "name": "python3",
      "display_name": "Python 3"
    },
    "language_info": {
      "name": "python"
    }
  },
  "cells": [
    {
      "cell_type": "markdown",
      "metadata": {
        "id": "view-in-github",
        "colab_type": "text"
      },
      "source": [
        "<a href=\"https://colab.research.google.com/github/MeowSky49887/Napha/blob/main/llama.ipynb\" target=\"_parent\"><img src=\"https://colab.research.google.com/assets/colab-badge.svg\" alt=\"Open In Colab\"/></a>"
      ]
    },
    {
      "cell_type": "code",
      "execution_count": null,
      "metadata": {
        "id": "_5s6nOtcFvli"
      },
      "outputs": [],
      "source": [
        "!pip install llama-cpp-python fastapi\n",
        "!npm install -g localtunnel -q"
      ]
    },
    {
      "cell_type": "code",
      "source": [
        "from llama_cpp import Llama\n",
        "from fastapi import FastAPI\n",
        "from pydantic import BaseModel\n",
        "from typing import List\n",
        "\n",
        "class MessageItem(BaseModel):\n",
        "    role: str\n",
        "    content: str\n",
        "\n",
        "class MessageList(BaseModel):\n",
        "    messages: List[MessageItem]\n",
        "\n",
        "app = FastAPI()\n",
        "\n",
        "# Load the pre-trained model\n",
        "guanaco = Llama.from_pretrained(\n",
        "    repo_id=\"RichardErkhov/TheTravellingEngineer_-_llama2-7b-chat-hf-guanaco-gguf\", # @param {type:\"string\"}\n",
        "    filename=\"llama2-7b-chat-hf-guanaco.Q4_K_M.gguf\", # @param {type:\"string\"}\n",
        "    verbose=False\n",
        ")\n",
        "\n",
        "@app.get(\"/\")\n",
        "def root():\n",
        "    return {\"Hello\": \"World\"}\n",
        "\n",
        "@app.post(\"/chat\")\n",
        "async def chat(history: List[MessageItem]):\n",
        "\n",
        "    # Generate a response using the model\n",
        "    response = guanaco.create_chat_completion(messages=history)\n",
        "\n",
        "    # Return the model's response\n",
        "    return jsonify(response)\n",
        "\n",
        "!wget -q -O - https://loca.lt/mytunnelpassword\n",
        "!printf \"\\n\\n\"\n",
        "!lt --port 8000 --subdomain \"colab-llama\"\n",
        "!printf \"\\n\\n\""
      ],
      "metadata": {
        "id": "YXhPp6nMGAxS"
      },
      "execution_count": null,
      "outputs": []
    }
  ]
}