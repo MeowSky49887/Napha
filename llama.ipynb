{
  "nbformat": 4,
  "nbformat_minor": 0,
  "metadata": {
    "colab": {
      "provenance": [],
      "authorship_tag": "ABX9TyN2XT4u0DUAlKJXEg8fh6So",
      "include_colab_link": true
    },
    "kernelspec": {
      "name": "python3",
      "display_name": "Python 3"
    },
    "language_info": {
      "name": "python"
    }
  },
  "cells": [
    {
      "cell_type": "markdown",
      "metadata": {
        "id": "view-in-github",
        "colab_type": "text"
      },
      "source": [
        "<a href=\"https://colab.research.google.com/github/MeowSky49887/Napha/blob/main/llama.ipynb\" target=\"_parent\"><img src=\"https://colab.research.google.com/assets/colab-badge.svg\" alt=\"Open In Colab\"/></a>"
      ]
    },
    {
      "cell_type": "markdown",
      "source": [
        "# **Napha Llama**\n",
        "Llama API for Napha\n",
        "\n",
        "---"
      ],
      "metadata": {
        "id": "5pFW43xBsN5Y"
      }
    },
    {
      "cell_type": "code",
      "execution_count": null,
      "metadata": {
        "id": "_5s6nOtcFvli",
        "cellView": "form"
      },
      "outputs": [],
      "source": [
        "# @title ###Prepare Python Bindings for llama.cpp Public URL\n",
        "\n",
        "!pip install llama-cpp-python fastapi\n",
        "!npm install -g localtunnel -q"
      ]
    },
    {
      "cell_type": "code",
      "source": [
        "# @title ###Create FastAPI file\n",
        "\n",
        "# Specify the content of the Python file\n",
        "file_content = \"\"\"\n",
        "from llama_cpp import Llama\n",
        "from fastapi import FastAPI\n",
        "from pydantic import BaseModel\n",
        "from typing import List\n",
        "from fastapi.responses import JSONResponse\n",
        "\n",
        "class MessageItem(BaseModel):\n",
        "    role: str\n",
        "    content: str\n",
        "\n",
        "class MessageList(BaseModel):\n",
        "    messages: List[MessageItem]\n",
        "\n",
        "app = FastAPI()\n",
        "\n",
        "# Load the pre-trained model\n",
        "guanaco = Llama.from_pretrained(\n",
        "    repo_id=\"RepositoryID\",\n",
        "    filename=\"FileName\",\n",
        "    verbose=False\n",
        ")\n",
        "\n",
        "@app.get(\"/\")\n",
        "def root():\n",
        "    return {\"Hello\": \"World\"}\n",
        "\n",
        "@app.post(\"/chat\")\n",
        "async def chat(history: MessageList):\n",
        "    # Convert the input messages to the format expected by the model\n",
        "    messages = [{\"role\": msg.role, \"content\": msg.content} for msg in history.messages]\n",
        "\n",
        "    # Generate a response using the model\n",
        "    response = guanaco.create_chat_completion(messages=messages)\n",
        "\n",
        "    # Return the model's response\n",
        "    return JSONResponse(content=response)\n",
        "\"\"\"\n",
        "\n",
        "RepositoryID = \"RichardErkhov/TheTravellingEngineer_-_llama2-7b-chat-hf-guanaco-gguf\" # @param {type:\"string\"}\n",
        "FileName = \"llama2-7b-chat-hf-guanaco.Q4_K_M.gguf\" # @param {type:\"string\"}\n",
        "\n",
        "file_content = file_content.replace(\"RepositoryID\", RepositoryID).replace(\"FileName\", FileName)\n",
        "\n",
        "# Write the content to a Python file\n",
        "with open('main.py', 'w') as file:\n",
        "    file.write(file_content)\n",
        "\n",
        "print(\"Python file 'main.py' created successfully.\")"
      ],
      "metadata": {
        "cellView": "form",
        "id": "84qEvrgbmzly"
      },
      "execution_count": null,
      "outputs": []
    },
    {
      "cell_type": "code",
      "source": [
        "# @title ###Run Python Bindings for llama.cpp Public URL\n",
        "\n",
        "!wget -q -O - https://loca.lt/mytunnelpassword\n",
        "!printf \"\\n\\n\"\n",
        "!fastapi run main.py & lt --port 8000 --subdomain \"napha-llama\"\n",
        "!printf \"\\n\\n\""
      ],
      "metadata": {
        "id": "YXhPp6nMGAxS",
        "cellView": "form"
      },
      "execution_count": null,
      "outputs": []
    }
  ]
}